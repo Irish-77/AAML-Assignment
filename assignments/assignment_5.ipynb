{
 "cells": [
  {
   "cell_type": "code",
   "execution_count": null,
   "id": "d66326b7-3d16-41af-b728-794213d2ed4e",
   "metadata": {},
   "outputs": [],
   "source": [
    "import shutil\n",
    "import random\n",
    "import os\n",
    "\n",
    "import cv2\n",
    "\n",
    "import pandas as pd\n",
    "import matplotlib.pyplot as plt\n",
    "import numpy as np\n",
    "\n",
    "from tabulate import tabulate\n",
    "from sklearn.model_selection import train_test_split"
   ]
  },
  {
   "cell_type": "code",
   "execution_count": null,
   "id": "6f1ed0a2-8f3d-4bec-b255-82af09bd1a6d",
   "metadata": {},
   "outputs": [],
   "source": [
    "import torch\n",
    "import torchvision\n",
    "\n",
    "import torch.nn as nn\n",
    "import torch.nn.functional as F\n",
    "\n",
    "from torchvision import transforms\n",
    "from torchvision.datasets import ImageFolder\n",
    "from torch.utils.data.dataloader import DataLoader\n",
    "from torch.utils.data import random_split\n",
    "from torchvision.utils import make_grid"
   ]
  },
  {
   "cell_type": "code",
   "execution_count": null,
   "id": "24796ae3-3833-4be1-9d8c-8ab3436e59ec",
   "metadata": {},
   "outputs": [],
   "source": [
    "df = pd.read_csv('../data/artists/artists.csv')"
   ]
  },
  {
   "cell_type": "code",
   "execution_count": null,
   "id": "3c37068a-6b4a-4be9-b862-cb40be375550",
   "metadata": {},
   "outputs": [],
   "source": [
    "paintings = df.paintings.sum()\n",
    "df['class_weight'] = df.paintings / paintings"
   ]
  },
  {
   "cell_type": "code",
   "execution_count": null,
   "id": "9d59b69c-4e86-4773-a02d-bdb64f918bc1",
   "metadata": {},
   "outputs": [],
   "source": [
    "df['name'].nunique()"
   ]
  },
  {
   "cell_type": "code",
   "execution_count": null,
   "id": "98bb4489-5adc-4656-b688-a1f439b1abfc",
   "metadata": {},
   "outputs": [],
   "source": [
    "df.head() #print(tabulate(df.head(), tablefmt=\"pipe\", headers=\"keys\"))"
   ]
  },
  {
   "cell_type": "markdown",
   "id": "bfa33ab8-6a7a-4c41-a440-1705b3af9478",
   "metadata": {},
   "source": [
    "|    |   id | name               | years       | genre                        | nationality   | bio                                                                                                                                                                                                                                                                                                                                                                                                                                                                                                                                                                                                                                                                                                                                                                                                                                                                                                                                                                                                                                                                                                                                                                                                                                                      | wikipedia                                      |   paintings |   class_weight |\n",
    "|---:|-----:|:-------------------|:------------|:-----------------------------|:--------------|:---------------------------------------------------------------------------------------------------------------------------------------------------------------------------------------------------------------------------------------------------------------------------------------------------------------------------------------------------------------------------------------------------------------------------------------------------------------------------------------------------------------------------------------------------------------------------------------------------------------------------------------------------------------------------------------------------------------------------------------------------------------------------------------------------------------------------------------------------------------------------------------------------------------------------------------------------------------------------------------------------------------------------------------------------------------------------------------------------------------------------------------------------------------------------------------------------------------------------------------------------------|:-----------------------------------------------|------------:|---------------:|\n",
    "|  0 |    0 | Amedeo Modigliani  | 1884 - 1920 | Expressionism                | Italian       | Amedeo Clemente Modigliani (Italian pronunciation: [ameˈdɛːo modiʎˈʎaːni]; 12 July 1884 – 24 January 1920) was an Italian Jewish painter and sculptor who worked mainly in France. He is known for portraits and nudes in a modern style characterized by elongation of faces, necks, and figures that were not received well during his lifetime but later found acceptance. Modigliani spent his youth in Italy, where he studied the art of antiquity and the Renaissance. In 1906 he moved to Paris, where he came into contact with such artists as Pablo Picasso and Constantin Brâncuși. By 1912 Modigliani was exhibiting highly stylized sculptures with Cubists of the Section d'Or group at the Salon d'Automne.                                                                                                                                                                                                                                                                                                                                                                                                                                                                                                                              | http://en.wikipedia.org/wiki/Amedeo_Modigliani |         193 |     0.0228511  |\n",
    "|  1 |    1 | Vasiliy Kandinskiy | 1866 - 1944 | Expressionism,Abstractionism | Russian       | Wassily Wassilyevich Kandinsky (Russian: Васи́лий Васи́льевич Канди́нский, tr. Vasíliy Vasílʹevich Kandínskiy) (16 December [O.S. 4 December] 1866 – 13 December 1944) was a Russian painter and art theorist.                                                                                                                                                                                                                                                                                                                                                                                                                                                                                                                                                                                                                                                                                                                                                                                                                                                                                                                                                                                                                                              | http://en.wikipedia.org/wiki/Wassily_Kandinsky |          88 |     0.0104191  |\n",
    "|  2 |    2 | Diego Rivera       | 1886 - 1957 | Social Realism,Muralism      | Mexican       | Diego María de la Concepción Juan Nepomuceno Estanislao de la Rivera y Barrientos Acosta y Rodríguez, known as Diego Rivera (Spanish pronunciation: [ˈdjeɣo riˈβeɾa]; December 8, 1886 – November 24, 1957) was a prominent Mexican painter. His large frescoes helped establish the Mexican mural movement in Mexican art. Between 1922 and 1953, Rivera painted murals in, among other places, Mexico City, Chapingo, Cuernavaca, San Francisco, Detroit, and New York City. In 1931, a retrospective exhibition of his works was held at the Museum of Modern Art in New York. Rivera had a volatile marriage with fellow Mexican artist Frida Kahlo.                                                                                                                                                                                                                                                                                                                                                                                                                                                                                                                                                                                                 | http://en.wikipedia.org/wiki/Diego_Rivera      |          70 |     0.00828795 |\n",
    "|  3 |    3 | Claude Monet       | 1840 - 1926 | Impressionism                | French        | Oscar-Claude Monet (; French: [klod mɔnɛ]; 14 November 1840 – 5 December 1926) was a French painter, a founder of French Impressionist painting and the most consistent and prolific practitioner of the movement's philosophy of expressing one's perceptions before nature, especially as applied to plein air landscape painting. The term \"Impressionism\" is derived from the title of his painting Impression, soleil levant (Impression, Sunrise), which was exhibited in 1874 in the first of the independent exhibitions mounted by Monet and his associates as an alternative to the Salon de Paris.Monet's ambition of documenting the French countryside led him to adopt a method of painting the same scene many times in order to capture the changing of light and the passing of the seasons. From 1883, Monet lived in Giverny, where he purchased a house and property and began a vast landscaping project which included lily ponds that would become the subjects of his best-known works. In 1899, he began painting the water lilies, first in vertical views with a Japanese bridge as a central feature and later in the series of large-scale paintings that was to occupy him continuously for the next 20 years of his life. | http://en.wikipedia.org/wiki/Claude_Monet      |          73 |     0.00864314 |\n",
    "|  4 |    4 | Rene Magritte      | 1898 - 1967 | Surrealism,Impressionism     | Belgian       | René François Ghislain Magritte (French: [ʁəne fʁɑ̃swa ɡilɛ̃ maɡʁit]; 21 November 1898 – 15 August 1967) was a Belgian Surrealist artist. He became well known for creating a number of witty and thought-provoking images. Often depicting ordinary objects in an unusual context, his work is known for challenging observers' preconditioned perceptions of reality. His imagery has influenced Pop art, minimalist and conceptual art.                                                                                                                                                                                                                                                                                                                                                                                                                                                                                                                                                                                                                                                                                                                                                                                                                 | http://en.wikipedia.org/wiki/René_Magritte     |         194 |     0.0229695  |"
   ]
  },
  {
   "cell_type": "code",
   "execution_count": null,
   "id": "1974041b-e7a9-4dcf-97ed-0d05932aaad4",
   "metadata": {},
   "outputs": [],
   "source": [
    "save_folder = '../data/artists/final'"
   ]
  },
  {
   "cell_type": "code",
   "execution_count": null,
   "id": "0fc88ce9-60c8-4428-bec3-a04eb0211fb9",
   "metadata": {},
   "outputs": [],
   "source": [
    "X, y = load_images_from_folder('../data/artists/resized')"
   ]
  },
  {
   "cell_type": "markdown",
   "id": "1f09b01f-3800-46bd-bbb0-e03254004704",
   "metadata": {},
   "source": [
    "## Transform data\n",
    "Change storage structure so that we can use the ImageFolder class from pytorch."
   ]
  },
  {
   "cell_type": "code",
   "execution_count": null,
   "id": "50f5777a-b913-43e3-aa7c-e947a0e58d8f",
   "metadata": {},
   "outputs": [],
   "source": [
    "def load_and_save_images_from_folder(folder, save_folder):\n",
    "    \n",
    "    i = 0\n",
    "    for filename in os.listdir(folder):\n",
    "        image_filename = os.path.join(folder,filename)\n",
    "        \n",
    "        #replace artist name\n",
    "        if 'Albrecht_Du╠êrer' in filename:\n",
    "            artist = 'Albrecht Dürer'\n",
    "        else:\n",
    "            artist = ' '.join(filename.split('_')[:-1])\n",
    "\n",
    "        # check folder existence\n",
    "        artist_folder = os.path.join(save_folder, artist)\n",
    "        if not os.path.isdir(artist_folder):#.exists():\n",
    "            os.mkdir(artist_folder)\n",
    "        \n",
    "        #save image\n",
    "        shutil.copy(image_filename, artist_folder)\n",
    "        \n",
    "        i+= 1\n",
    "        print(i, end ='\\r')\n",
    "        \n",
    "load_and_save_images_from_folder('../data/artists/resized', save_folder)"
   ]
  },
  {
   "cell_type": "markdown",
   "id": "391b28c2-287b-49d0-b174-1f99244301d5",
   "metadata": {},
   "source": [
    "8683"
   ]
  },
  {
   "cell_type": "markdown",
   "id": "f29fb173-bdd9-48b1-b980-9b157a0c19da",
   "metadata": {},
   "source": [
    "Es wurde ein Ordner Albrecht_Du╠êrer erstellt. Diesen haben wir manuell gelöscht."
   ]
  },
  {
   "cell_type": "code",
   "execution_count": null,
   "id": "076069c3-7601-4f01-a4ab-f47c609500d3",
   "metadata": {},
   "outputs": [],
   "source": [
    "dataset = ImageFolder(save_folder,transform = transforms.Compose([\n",
    "    transforms.Resize((150,150)),transforms.ToTensor()\n",
    "]))"
   ]
  },
  {
   "cell_type": "code",
   "execution_count": null,
   "id": "facfecfd-badf-48dc-9639-cc6e47a4442b",
   "metadata": {},
   "outputs": [],
   "source": [
    "n = len(dataset) # n = 8356\n",
    "len_train = 5000\n",
    "len_dev = 1678 # (8356 - 5000) / 2\n",
    "len_test = 1678"
   ]
  },
  {
   "cell_type": "code",
   "execution_count": null,
   "id": "f6a94261-3b96-4860-b9a4-9534e0427003",
   "metadata": {},
   "outputs": [],
   "source": [
    "train_data, dev_data, test_data = random_split(dataset,[len_train, len_dev, len_test])"
   ]
  },
  {
   "cell_type": "code",
   "execution_count": null,
   "id": "45f13a78-6df1-4292-a0f1-9c8fb24c7952",
   "metadata": {},
   "outputs": [],
   "source": [
    "batch_size = 256\n",
    "\n",
    "train = DataLoader(train_data, batch_size = batch_size, shuffle = True, num_workers = 4)\n",
    "dev = DataLoader(dev_data, batch_size = batch_size * 2, num_workers = 4)\n",
    "test = DataLoader(test_data, batch_size = batch_size * 2, num_workers = 4)"
   ]
  },
  {
   "cell_type": "code",
   "execution_count": null,
   "id": "e074d7f3-8416-4d9d-b4f3-322e44a79b07",
   "metadata": {},
   "outputs": [],
   "source": [
    "def plot_image_grid(data_images):\n",
    "    for images, labels in data_images:\n",
    "        fig,ax = plt.subplots(figsize = (16,12))\n",
    "        ax.set_xticks([]) # remove x-ticks\n",
    "        ax.set_yticks([]) # remove y-ticks\n",
    "        ax.imshow(make_grid(images,nrow=8).permute(1,2,0))\n",
    "        break\n",
    "\n",
    "# images were created with batch siez of 32 images        \n",
    "plot_image_grid(train)"
   ]
  },
  {
   "cell_type": "markdown",
   "id": "c4d88bbf-9084-48fd-bbd5-a91b8e72250f",
   "metadata": {},
   "source": [
    "![](../images.png)"
   ]
  },
  {
   "cell_type": "markdown",
   "id": "36f008ee-5071-450a-8375-955b3a3d6876",
   "metadata": {},
   "source": [
    "## Build Convolutional NN"
   ]
  },
  {
   "cell_type": "code",
   "execution_count": null,
   "id": "7b6b8290-1456-4c5e-9363-f3350c17284a",
   "metadata": {},
   "outputs": [],
   "source": [
    "class ArtistClassificationBase(nn.Module):\n",
    "    \n",
    "    def training_step(self, batch):\n",
    "        images, labels = batch \n",
    "        out = self(images)                  # Generate predictions\n",
    "        loss = F.cross_entropy(out, labels) # Calculate loss\n",
    "        return loss\n",
    "    \n",
    "    def validation_step(self, batch):\n",
    "        images, labels = batch \n",
    "        out = self(images)                    # Generate predictions\n",
    "        loss = F.cross_entropy(out, labels)   # Calculate loss\n",
    "        acc = accuracy(out, labels)           # Calculate accuracy\n",
    "        return {'val_loss': loss.detach(), 'val_acc': acc}\n",
    "        \n",
    "    def validation_epoch_end(self, outputs):\n",
    "        batch_losses = [x['val_loss'] for x in outputs]\n",
    "        epoch_loss = torch.stack(batch_losses).mean()   # Combine losses\n",
    "        batch_accs = [x['val_acc'] for x in outputs]\n",
    "        epoch_acc = torch.stack(batch_accs).mean()      # Combine accuracies\n",
    "        return {'val_loss': epoch_loss.item(), 'val_acc': epoch_acc.item()}\n",
    "    \n",
    "    def epoch_end(self, epoch, result):\n",
    "        print(\"Epoch [{}], train_loss: {:.4f}, val_loss: {:.4f}, val_acc: {:.4f}\".format(\n",
    "            epoch, result['train_loss'], result['val_loss'], result['val_acc']))"
   ]
  },
  {
   "cell_type": "code",
   "execution_count": null,
   "id": "896ca4aa-273d-4040-ade6-d5b90eb2f168",
   "metadata": {},
   "outputs": [],
   "source": [
    "class ConvolutionalNN(ArtistClassificationBase):\n",
    "    def __init__(self, n):\n",
    "        super().__init__()\n",
    "        self.network = nn.Sequential(\n",
    "            \n",
    "            nn.Conv2d(3, 32, kernel_size = 3, padding = 1),\n",
    "            nn.ReLU(),\n",
    "            nn.Conv2d(32,64, kernel_size = 3, stride = 1, padding = 1),\n",
    "            nn.ReLU(),\n",
    "            nn.MaxPool2d(2,2),\n",
    "        \n",
    "            nn.Conv2d(64, 128, kernel_size = 3, stride = 1, padding = 1),\n",
    "            nn.ReLU(),\n",
    "            nn.Conv2d(128 ,128, kernel_size = 3, stride = 1, padding = 1),\n",
    "            nn.ReLU(),\n",
    "            nn.MaxPool2d(2,2),\n",
    "            \n",
    "            nn.Conv2d(128, 256, kernel_size = 3, stride = 1, padding = 1),\n",
    "            nn.ReLU(),\n",
    "            nn.Conv2d(256,256, kernel_size = 3, stride = 1, padding = 1),\n",
    "            nn.ReLU(),\n",
    "            nn.MaxPool2d(2,2),\n",
    "            \n",
    "            nn.Flatten(),\n",
    "            nn.Linear(82944,1024),\n",
    "            nn.ReLU(),\n",
    "            nn.Linear(1024, 512),\n",
    "            nn.ReLU(),\n",
    "            nn.Linear(512,n)\n",
    "        )\n",
    "    \n",
    "    def forward(self, xb):\n",
    "        return self.network(xb)"
   ]
  },
  {
   "cell_type": "code",
   "execution_count": null,
   "id": "d4ac1d4f-9abf-489e-bb36-0e847033148d",
   "metadata": {},
   "outputs": [],
   "source": [
    "def accuracy(outputs, labels):\n",
    "    _, preds = torch.max(outputs, dim=1)\n",
    "    return torch.tensor(torch.sum(preds == labels).item() / len(preds))\n",
    "\n",
    "@torch.no_grad()\n",
    "def evaluate(model, val_loader):\n",
    "    model.eval()\n",
    "    outputs = [model.validation_step(batch) for batch in val_loader]\n",
    "    return model.validation_epoch_end(outputs)\n",
    "  \n",
    "def fit(epochs, lr, model, train_loader, val_loader, opt_func = torch.optim.SGD):\n",
    "    \n",
    "    history = []\n",
    "    optimizer = opt_func(model.parameters(),lr)\n",
    "    for epoch in range(epochs):\n",
    "        \n",
    "        model.train()\n",
    "        train_losses = []\n",
    "        for i, batch in enumerate(train_loader):\n",
    "            loss = model.training_step(batch)\n",
    "            train_losses.append(loss)\n",
    "            loss.backward()\n",
    "            optimizer.step()\n",
    "            optimizer.zero_grad()\n",
    "            print(f'Batch Nr: {i + 1} done', end = '\\r')\n",
    "            \n",
    "        result = evaluate(model, val_loader)\n",
    "        result['train_loss'] = torch.stack(train_losses).mean().item()\n",
    "        model.epoch_end(epoch, result)\n",
    "        history.append(result)\n",
    "    \n",
    "    return history"
   ]
  },
  {
   "cell_type": "code",
   "execution_count": null,
   "id": "b7d01f87-dd79-444b-9909-350359bca2a3",
   "metadata": {},
   "outputs": [],
   "source": [
    "num_epochs = 12\n",
    "opt_func = torch.optim.Adam\n",
    "lr = 0.001\n",
    "n = len(train.dataset.dataset.classes)\n",
    "\n",
    "model = ConvolutionalNN(n)\n",
    "\n",
    "#fitting the model on training data and record the result after each epoch\n",
    "history = fit(num_epochs, lr, model, train, dev, opt_func)"
   ]
  },
  {
   "cell_type": "markdown",
   "id": "85a1bea0-609d-4707-a3eb-fd1dd72bb3f0",
   "metadata": {},
   "source": [
    "Epoch [0], train_loss: 3.9354, val_loss: 3.6182, val_acc: 0.1040 <br />\n",
    "Epoch [1], train_loss: 3.6043, val_loss: 3.5282, val_acc: 0.1232 <br />\n",
    "Epoch [2], train_loss: 3.4250, val_loss: 3.3825, val_acc: 0.1479 <br />\n",
    "Epoch [3], train_loss: 3.2884, val_loss: 3.2186, val_acc: 0.1915 <br />\n",
    "Epoch [4], train_loss: 3.1745, val_loss: 3.1242, val_acc: 0.2005 <br />\n",
    "Epoch [5], train_loss: 3.1179, val_loss: 3.1436, val_acc: 0.2027 <br />\n",
    "Epoch [6], train_loss: 2.9982, val_loss: 2.9989, val_acc: 0.2457 <br />\n",
    "Epoch [7], train_loss: 2.9017, val_loss: 2.9357, val_acc: 0.2417 <br />\n",
    "Epoch [8], train_loss: 2.7487, val_loss: 2.8826, val_acc: 0.2597 <br />\n",
    "Epoch [9], train_loss: 2.5905, val_loss: 2.8124, val_acc: 0.2795 <br />\n",
    "Epoch [10], train_loss: 2.3774, val_loss: 2.8283, val_acc: 0.2758 <br />\n",
    "Epoch [11], train_loss: 2.1264, val_loss: 2.9200, val_acc: 0.2785 <br />\n",
    "Epoch [12], train_loss: 1.8482, val_loss: 3.2579, val_acc: 0.2582 <br />"
   ]
  },
  {
   "cell_type": "markdown",
   "id": "59992e51-4c41-45f0-ac5b-5fb309503536",
   "metadata": {},
   "source": [
    "## Accuracy"
   ]
  },
  {
   "cell_type": "code",
   "execution_count": null,
   "id": "53507846-c889-4150-a580-2faa06614a45",
   "metadata": {},
   "outputs": [],
   "source": [
    "result = evaluate(model, test) # calculate accuracy\n",
    "result"
   ]
  },
  {
   "cell_type": "markdown",
   "id": "8e5656d5-2e23-4fb1-847d-15e23529886c",
   "metadata": {},
   "source": [
    "{'val_loss': 3.6311185359954834, 'val_acc': 0.09573063254356384}"
   ]
  }
 ],
 "metadata": {
  "kernelspec": {
   "display_name": "Python 3",
   "language": "python",
   "name": "python3"
  },
  "language_info": {
   "codemirror_mode": {
    "name": "ipython",
    "version": 3
   },
   "file_extension": ".py",
   "mimetype": "text/x-python",
   "name": "python",
   "nbconvert_exporter": "python",
   "pygments_lexer": "ipython3",
   "version": "3.9.2"
  }
 },
 "nbformat": 4,
 "nbformat_minor": 5
}
