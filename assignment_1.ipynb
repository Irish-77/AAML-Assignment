{
 "cells": [
  {
   "cell_type": "code",
   "execution_count": 1,
   "id": "3f934325-6c53-4964-b344-a9bbe00f13a9",
   "metadata": {},
   "outputs": [],
   "source": [
    "import pandas as pd\n",
    "import matplotlib.pyplot as plt\n",
    "import seaborn as sns\n",
    "from sklearn.model_selection import train_test_split\n",
    "from sklearn.preprocessing import normalize"
   ]
  },
  {
   "cell_type": "code",
   "execution_count": 2,
   "id": "41d20c0d-4432-463d-afc6-b77f2f0a2392",
   "metadata": {},
   "outputs": [],
   "source": [
    "df = pd.read_csv('data/immo_data.csv')"
   ]
  },
  {
   "cell_type": "code",
   "execution_count": 3,
   "id": "c44cc003-cc25-428b-ae97-ee3180d03440",
   "metadata": {},
   "outputs": [],
   "source": [
    "# remove columns that are not allowed to be used to predict totalRent\n",
    "df.drop(['serviceCharge', 'baseRent'], axis=1, inplace=True)"
   ]
  },
  {
   "cell_type": "code",
   "execution_count": 4,
   "id": "3453c76a-75f8-41c0-80c6-edb6e09a48b1",
   "metadata": {},
   "outputs": [
    {
     "name": "stdout",
     "output_type": "stream",
     "text": [
      "<class 'pandas.core.frame.DataFrame'>\n",
      "RangeIndex: 268850 entries, 0 to 268849\n",
      "Data columns (total 47 columns):\n",
      " #   Column                    Non-Null Count   Dtype  \n",
      "---  ------                    --------------   -----  \n",
      " 0   regio1                    268850 non-null  object \n",
      " 1   heatingType               223994 non-null  object \n",
      " 2   telekomTvOffer            236231 non-null  object \n",
      " 3   telekomHybridUploadSpeed  45020 non-null   float64\n",
      " 4   newlyConst                268850 non-null  bool   \n",
      " 5   balcony                   268850 non-null  bool   \n",
      " 6   picturecount              268850 non-null  int64  \n",
      " 7   pricetrend                267018 non-null  float64\n",
      " 8   telekomUploadSpeed        235492 non-null  float64\n",
      " 9   totalRent                 228333 non-null  float64\n",
      " 10  yearConstructed           211805 non-null  float64\n",
      " 11  scoutId                   268850 non-null  int64  \n",
      " 12  noParkSpaces              93052 non-null   float64\n",
      " 13  firingTypes               211886 non-null  object \n",
      " 14  hasKitchen                268850 non-null  bool   \n",
      " 15  geo_bln                   268850 non-null  object \n",
      " 16  cellar                    268850 non-null  bool   \n",
      " 17  yearConstructedRange      211805 non-null  float64\n",
      " 18  houseNumber               197832 non-null  object \n",
      " 19  livingSpace               268850 non-null  float64\n",
      " 20  geo_krs                   268850 non-null  object \n",
      " 21  condition                 200361 non-null  object \n",
      " 22  interiorQual              156185 non-null  object \n",
      " 23  petsAllowed               154277 non-null  object \n",
      " 24  street                    268850 non-null  object \n",
      " 25  streetPlain               197837 non-null  object \n",
      " 26  lift                      268850 non-null  bool   \n",
      " 27  baseRentRange             268850 non-null  int64  \n",
      " 28  typeOfFlat                232236 non-null  object \n",
      " 29  geo_plz                   268850 non-null  int64  \n",
      " 30  noRooms                   268850 non-null  float64\n",
      " 31  thermalChar               162344 non-null  float64\n",
      " 32  floor                     217541 non-null  float64\n",
      " 33  numberOfFloors            171118 non-null  float64\n",
      " 34  noRoomsRange              268850 non-null  int64  \n",
      " 35  garden                    268850 non-null  bool   \n",
      " 36  livingSpaceRange          268850 non-null  int64  \n",
      " 37  regio2                    268850 non-null  object \n",
      " 38  regio3                    268850 non-null  object \n",
      " 39  description               249103 non-null  object \n",
      " 40  facilities                215926 non-null  object \n",
      " 41  heatingCosts              85518 non-null   float64\n",
      " 42  energyEfficiencyClass     77787 non-null   object \n",
      " 43  lastRefurbish             80711 non-null   float64\n",
      " 44  electricityBasePrice      46846 non-null   float64\n",
      " 45  electricityKwhPrice       46846 non-null   float64\n",
      " 46  date                      268850 non-null  object \n",
      "dtypes: bool(6), float64(16), int64(6), object(19)\n",
      "memory usage: 85.6+ MB\n"
     ]
    }
   ],
   "source": [
    "df.info()"
   ]
  },
  {
   "cell_type": "code",
   "execution_count": 5,
   "id": "506835fb-8e35-4bd3-a0d7-d0a259224629",
   "metadata": {},
   "outputs": [
    {
     "data": {
      "text/html": [
       "<div>\n",
       "<style scoped>\n",
       "    .dataframe tbody tr th:only-of-type {\n",
       "        vertical-align: middle;\n",
       "    }\n",
       "\n",
       "    .dataframe tbody tr th {\n",
       "        vertical-align: top;\n",
       "    }\n",
       "\n",
       "    .dataframe thead th {\n",
       "        text-align: right;\n",
       "    }\n",
       "</style>\n",
       "<table border=\"1\" class=\"dataframe\">\n",
       "  <thead>\n",
       "    <tr style=\"text-align: right;\">\n",
       "      <th></th>\n",
       "      <th>telekomHybridUploadSpeed</th>\n",
       "      <th>picturecount</th>\n",
       "      <th>pricetrend</th>\n",
       "      <th>telekomUploadSpeed</th>\n",
       "      <th>totalRent</th>\n",
       "      <th>yearConstructed</th>\n",
       "      <th>scoutId</th>\n",
       "      <th>noParkSpaces</th>\n",
       "      <th>yearConstructedRange</th>\n",
       "      <th>livingSpace</th>\n",
       "      <th>...</th>\n",
       "      <th>noRooms</th>\n",
       "      <th>thermalChar</th>\n",
       "      <th>floor</th>\n",
       "      <th>numberOfFloors</th>\n",
       "      <th>noRoomsRange</th>\n",
       "      <th>livingSpaceRange</th>\n",
       "      <th>heatingCosts</th>\n",
       "      <th>lastRefurbish</th>\n",
       "      <th>electricityBasePrice</th>\n",
       "      <th>electricityKwhPrice</th>\n",
       "    </tr>\n",
       "  </thead>\n",
       "  <tbody>\n",
       "    <tr>\n",
       "      <th>count</th>\n",
       "      <td>45020.0</td>\n",
       "      <td>268850.000000</td>\n",
       "      <td>267018.000000</td>\n",
       "      <td>235492.000000</td>\n",
       "      <td>2.283330e+05</td>\n",
       "      <td>211805.000000</td>\n",
       "      <td>2.688500e+05</td>\n",
       "      <td>93052.000000</td>\n",
       "      <td>211805.000000</td>\n",
       "      <td>268850.000000</td>\n",
       "      <td>...</td>\n",
       "      <td>268850.000000</td>\n",
       "      <td>162344.000000</td>\n",
       "      <td>217541.000000</td>\n",
       "      <td>171118.000000</td>\n",
       "      <td>268850.000000</td>\n",
       "      <td>268850.000000</td>\n",
       "      <td>85518.000000</td>\n",
       "      <td>80711.000000</td>\n",
       "      <td>46846.000000</td>\n",
       "      <td>46846.000000</td>\n",
       "    </tr>\n",
       "    <tr>\n",
       "      <th>mean</th>\n",
       "      <td>10.0</td>\n",
       "      <td>9.791958</td>\n",
       "      <td>3.389001</td>\n",
       "      <td>28.804928</td>\n",
       "      <td>9.013315e+02</td>\n",
       "      <td>1966.400590</td>\n",
       "      <td>1.069697e+08</td>\n",
       "      <td>1.327634</td>\n",
       "      <td>3.714544</td>\n",
       "      <td>74.355548</td>\n",
       "      <td>...</td>\n",
       "      <td>2.641261</td>\n",
       "      <td>114.749533</td>\n",
       "      <td>2.122405</td>\n",
       "      <td>3.572319</td>\n",
       "      <td>2.571542</td>\n",
       "      <td>3.070790</td>\n",
       "      <td>76.990866</td>\n",
       "      <td>2013.904536</td>\n",
       "      <td>89.113612</td>\n",
       "      <td>0.199769</td>\n",
       "    </tr>\n",
       "    <tr>\n",
       "      <th>std</th>\n",
       "      <td>0.0</td>\n",
       "      <td>6.408399</td>\n",
       "      <td>1.964874</td>\n",
       "      <td>16.337151</td>\n",
       "      <td>3.323833e+04</td>\n",
       "      <td>46.992207</td>\n",
       "      <td>1.250093e+07</td>\n",
       "      <td>8.361403</td>\n",
       "      <td>2.738134</td>\n",
       "      <td>254.759208</td>\n",
       "      <td>...</td>\n",
       "      <td>2.633440</td>\n",
       "      <td>61.653663</td>\n",
       "      <td>3.634934</td>\n",
       "      <td>6.375496</td>\n",
       "      <td>0.937594</td>\n",
       "      <td>1.407127</td>\n",
       "      <td>147.716278</td>\n",
       "      <td>10.963125</td>\n",
       "      <td>5.395805</td>\n",
       "      <td>0.009667</td>\n",
       "    </tr>\n",
       "    <tr>\n",
       "      <th>min</th>\n",
       "      <td>10.0</td>\n",
       "      <td>0.000000</td>\n",
       "      <td>-12.330000</td>\n",
       "      <td>1.000000</td>\n",
       "      <td>0.000000e+00</td>\n",
       "      <td>1000.000000</td>\n",
       "      <td>2.887174e+07</td>\n",
       "      <td>0.000000</td>\n",
       "      <td>1.000000</td>\n",
       "      <td>0.000000</td>\n",
       "      <td>...</td>\n",
       "      <td>1.000000</td>\n",
       "      <td>0.100000</td>\n",
       "      <td>-1.000000</td>\n",
       "      <td>0.000000</td>\n",
       "      <td>1.000000</td>\n",
       "      <td>1.000000</td>\n",
       "      <td>0.000000</td>\n",
       "      <td>1015.000000</td>\n",
       "      <td>71.430000</td>\n",
       "      <td>0.170500</td>\n",
       "    </tr>\n",
       "    <tr>\n",
       "      <th>25%</th>\n",
       "      <td>10.0</td>\n",
       "      <td>6.000000</td>\n",
       "      <td>2.000000</td>\n",
       "      <td>10.000000</td>\n",
       "      <td>4.698000e+02</td>\n",
       "      <td>1950.000000</td>\n",
       "      <td>1.066910e+08</td>\n",
       "      <td>1.000000</td>\n",
       "      <td>1.000000</td>\n",
       "      <td>54.000000</td>\n",
       "      <td>...</td>\n",
       "      <td>2.000000</td>\n",
       "      <td>79.000000</td>\n",
       "      <td>1.000000</td>\n",
       "      <td>2.000000</td>\n",
       "      <td>2.000000</td>\n",
       "      <td>2.000000</td>\n",
       "      <td>54.000000</td>\n",
       "      <td>2012.000000</td>\n",
       "      <td>90.760000</td>\n",
       "      <td>0.191500</td>\n",
       "    </tr>\n",
       "    <tr>\n",
       "      <th>50%</th>\n",
       "      <td>10.0</td>\n",
       "      <td>9.000000</td>\n",
       "      <td>3.390000</td>\n",
       "      <td>40.000000</td>\n",
       "      <td>6.500000e+02</td>\n",
       "      <td>1973.000000</td>\n",
       "      <td>1.111584e+08</td>\n",
       "      <td>1.000000</td>\n",
       "      <td>3.000000</td>\n",
       "      <td>67.320000</td>\n",
       "      <td>...</td>\n",
       "      <td>3.000000</td>\n",
       "      <td>107.000000</td>\n",
       "      <td>2.000000</td>\n",
       "      <td>3.000000</td>\n",
       "      <td>3.000000</td>\n",
       "      <td>3.000000</td>\n",
       "      <td>70.000000</td>\n",
       "      <td>2017.000000</td>\n",
       "      <td>90.760000</td>\n",
       "      <td>0.198500</td>\n",
       "    </tr>\n",
       "    <tr>\n",
       "      <th>75%</th>\n",
       "      <td>10.0</td>\n",
       "      <td>13.000000</td>\n",
       "      <td>4.570000</td>\n",
       "      <td>40.000000</td>\n",
       "      <td>9.850000e+02</td>\n",
       "      <td>1996.000000</td>\n",
       "      <td>1.137688e+08</td>\n",
       "      <td>1.000000</td>\n",
       "      <td>5.000000</td>\n",
       "      <td>87.000000</td>\n",
       "      <td>...</td>\n",
       "      <td>3.000000</td>\n",
       "      <td>140.300000</td>\n",
       "      <td>3.000000</td>\n",
       "      <td>4.000000</td>\n",
       "      <td>3.000000</td>\n",
       "      <td>4.000000</td>\n",
       "      <td>90.000000</td>\n",
       "      <td>2019.000000</td>\n",
       "      <td>90.760000</td>\n",
       "      <td>0.205500</td>\n",
       "    </tr>\n",
       "    <tr>\n",
       "      <th>max</th>\n",
       "      <td>10.0</td>\n",
       "      <td>121.000000</td>\n",
       "      <td>14.920000</td>\n",
       "      <td>100.000000</td>\n",
       "      <td>1.575154e+07</td>\n",
       "      <td>2090.000000</td>\n",
       "      <td>1.157117e+08</td>\n",
       "      <td>2241.000000</td>\n",
       "      <td>9.000000</td>\n",
       "      <td>111111.000000</td>\n",
       "      <td>...</td>\n",
       "      <td>999.990000</td>\n",
       "      <td>1996.000000</td>\n",
       "      <td>999.000000</td>\n",
       "      <td>999.000000</td>\n",
       "      <td>5.000000</td>\n",
       "      <td>7.000000</td>\n",
       "      <td>12613.000000</td>\n",
       "      <td>2919.000000</td>\n",
       "      <td>90.760000</td>\n",
       "      <td>0.227600</td>\n",
       "    </tr>\n",
       "  </tbody>\n",
       "</table>\n",
       "<p>8 rows × 22 columns</p>\n",
       "</div>"
      ],
      "text/plain": [
       "       telekomHybridUploadSpeed   picturecount     pricetrend  \\\n",
       "count                   45020.0  268850.000000  267018.000000   \n",
       "mean                       10.0       9.791958       3.389001   \n",
       "std                         0.0       6.408399       1.964874   \n",
       "min                        10.0       0.000000     -12.330000   \n",
       "25%                        10.0       6.000000       2.000000   \n",
       "50%                        10.0       9.000000       3.390000   \n",
       "75%                        10.0      13.000000       4.570000   \n",
       "max                        10.0     121.000000      14.920000   \n",
       "\n",
       "       telekomUploadSpeed     totalRent  yearConstructed       scoutId  \\\n",
       "count       235492.000000  2.283330e+05    211805.000000  2.688500e+05   \n",
       "mean            28.804928  9.013315e+02      1966.400590  1.069697e+08   \n",
       "std             16.337151  3.323833e+04        46.992207  1.250093e+07   \n",
       "min              1.000000  0.000000e+00      1000.000000  2.887174e+07   \n",
       "25%             10.000000  4.698000e+02      1950.000000  1.066910e+08   \n",
       "50%             40.000000  6.500000e+02      1973.000000  1.111584e+08   \n",
       "75%             40.000000  9.850000e+02      1996.000000  1.137688e+08   \n",
       "max            100.000000  1.575154e+07      2090.000000  1.157117e+08   \n",
       "\n",
       "       noParkSpaces  yearConstructedRange    livingSpace  ...        noRooms  \\\n",
       "count  93052.000000         211805.000000  268850.000000  ...  268850.000000   \n",
       "mean       1.327634              3.714544      74.355548  ...       2.641261   \n",
       "std        8.361403              2.738134     254.759208  ...       2.633440   \n",
       "min        0.000000              1.000000       0.000000  ...       1.000000   \n",
       "25%        1.000000              1.000000      54.000000  ...       2.000000   \n",
       "50%        1.000000              3.000000      67.320000  ...       3.000000   \n",
       "75%        1.000000              5.000000      87.000000  ...       3.000000   \n",
       "max     2241.000000              9.000000  111111.000000  ...     999.990000   \n",
       "\n",
       "         thermalChar          floor  numberOfFloors   noRoomsRange  \\\n",
       "count  162344.000000  217541.000000   171118.000000  268850.000000   \n",
       "mean      114.749533       2.122405        3.572319       2.571542   \n",
       "std        61.653663       3.634934        6.375496       0.937594   \n",
       "min         0.100000      -1.000000        0.000000       1.000000   \n",
       "25%        79.000000       1.000000        2.000000       2.000000   \n",
       "50%       107.000000       2.000000        3.000000       3.000000   \n",
       "75%       140.300000       3.000000        4.000000       3.000000   \n",
       "max      1996.000000     999.000000      999.000000       5.000000   \n",
       "\n",
       "       livingSpaceRange  heatingCosts  lastRefurbish  electricityBasePrice  \\\n",
       "count     268850.000000  85518.000000   80711.000000          46846.000000   \n",
       "mean           3.070790     76.990866    2013.904536             89.113612   \n",
       "std            1.407127    147.716278      10.963125              5.395805   \n",
       "min            1.000000      0.000000    1015.000000             71.430000   \n",
       "25%            2.000000     54.000000    2012.000000             90.760000   \n",
       "50%            3.000000     70.000000    2017.000000             90.760000   \n",
       "75%            4.000000     90.000000    2019.000000             90.760000   \n",
       "max            7.000000  12613.000000    2919.000000             90.760000   \n",
       "\n",
       "       electricityKwhPrice  \n",
       "count         46846.000000  \n",
       "mean              0.199769  \n",
       "std               0.009667  \n",
       "min               0.170500  \n",
       "25%               0.191500  \n",
       "50%               0.198500  \n",
       "75%               0.205500  \n",
       "max               0.227600  \n",
       "\n",
       "[8 rows x 22 columns]"
      ]
     },
     "execution_count": 5,
     "metadata": {},
     "output_type": "execute_result"
    }
   ],
   "source": [
    "df.describe()"
   ]
  },
  {
   "cell_type": "code",
   "execution_count": 6,
   "id": "36a8dd0d-ab33-4872-9e9b-2433ed5fcb8e",
   "metadata": {},
   "outputs": [
    {
     "data": {
      "text/plain": [
       "regio1                          16\n",
       "heatingType                     13\n",
       "telekomTvOffer                   3\n",
       "telekomHybridUploadSpeed         1\n",
       "newlyConst                       2\n",
       "balcony                          2\n",
       "picturecount                    95\n",
       "pricetrend                    1234\n",
       "telekomUploadSpeed               7\n",
       "totalRent                    28486\n",
       "yearConstructed                465\n",
       "scoutId                     268850\n",
       "noParkSpaces                    71\n",
       "firingTypes                    132\n",
       "hasKitchen                       2\n",
       "geo_bln                         16\n",
       "cellar                           2\n",
       "yearConstructedRange             9\n",
       "houseNumber                   5510\n",
       "livingSpace                  13005\n",
       "geo_krs                        419\n",
       "condition                       10\n",
       "interiorQual                     4\n",
       "petsAllowed                      3\n",
       "street                       52373\n",
       "streetPlain                  54490\n",
       "lift                             2\n",
       "baseRentRange                    9\n",
       "typeOfFlat                      10\n",
       "geo_plz                       7634\n",
       "noRooms                         64\n",
       "thermalChar                   7847\n",
       "floor                           53\n",
       "numberOfFloors                  57\n",
       "noRoomsRange                     5\n",
       "garden                           2\n",
       "livingSpaceRange                 7\n",
       "regio2                         419\n",
       "regio3                        8684\n",
       "description                 212621\n",
       "facilities                  189526\n",
       "heatingCosts                  5669\n",
       "energyEfficiencyClass           10\n",
       "lastRefurbish                   88\n",
       "electricityBasePrice             2\n",
       "electricityKwhPrice             15\n",
       "date                             4\n",
       "dtype: int64"
      ]
     },
     "execution_count": 6,
     "metadata": {},
     "output_type": "execute_result"
    }
   ],
   "source": [
    "df.nunique()"
   ]
  },
  {
   "cell_type": "markdown",
   "id": "f2cd7029-f552-4f3d-987e-86e4d4422d3f",
   "metadata": {},
   "source": [
    "## Feature Selection"
   ]
  },
  {
   "cell_type": "code",
   "execution_count": 7,
   "id": "ed8c7707-b0ec-4328-a2ce-c044ac50c845",
   "metadata": {},
   "outputs": [],
   "source": [
    "df.drop(['telekomHybridUploadSpeed'], axis=1, inplace=True) # has only one value\n",
    "df.drop(['date'], axis=1, inplace=True) # scraping is irrelavant to the price; not possible for real environment\n",
    "df.drop(['geo_bln'], axis=1, inplace=True) # same as regio1\n",
    "df.drop(['houseNumber', 'street', 'streetPlain', 'regio3', 'description', 'facilities', 'scoutId'], axis=1, inplace=True) # too many (unrelated) values\n",
    "df.drop(['baseRentRange'], axis=1, inplace=True) # without knowing the baseRent we cannot know the baseRentRange"
   ]
  },
  {
   "cell_type": "code",
   "execution_count": 8,
   "id": "1e1b17ed-2f7f-4699-ac70-d39db22986e0",
   "metadata": {},
   "outputs": [],
   "source": [
    "is_na = df.isna().sum()\n",
    "columns = df.columns[((is_na/len(df)) > 0.40)]"
   ]
  },
  {
   "cell_type": "code",
   "execution_count": 9,
   "id": "7c80b303-eae9-4c1c-adb1-49e41d075fe5",
   "metadata": {},
   "outputs": [
    {
     "data": {
      "text/plain": [
       "Index(['noParkSpaces', 'interiorQual', 'petsAllowed', 'heatingCosts',\n",
       "       'energyEfficiencyClass', 'lastRefurbish', 'electricityBasePrice',\n",
       "       'electricityKwhPrice'],\n",
       "      dtype='object')"
      ]
     },
     "execution_count": 9,
     "metadata": {},
     "output_type": "execute_result"
    }
   ],
   "source": [
    "columns"
   ]
  },
  {
   "cell_type": "code",
   "execution_count": 10,
   "id": "eded5fe7-f7d6-49bd-9d5b-a68719ca1f50",
   "metadata": {},
   "outputs": [],
   "source": [
    "df.drop(columns, axis=1, inplace=True)"
   ]
  },
  {
   "cell_type": "code",
   "execution_count": 11,
   "id": "9ed928b3-f883-442d-b47a-1cc214832f8e",
   "metadata": {},
   "outputs": [
    {
     "name": "stdout",
     "output_type": "stream",
     "text": [
      "<class 'pandas.core.frame.DataFrame'>\n",
      "RangeIndex: 268850 entries, 0 to 268849\n",
      "Data columns (total 28 columns):\n",
      " #   Column                Non-Null Count   Dtype  \n",
      "---  ------                --------------   -----  \n",
      " 0   regio1                268850 non-null  object \n",
      " 1   heatingType           223994 non-null  object \n",
      " 2   telekomTvOffer        236231 non-null  object \n",
      " 3   newlyConst            268850 non-null  bool   \n",
      " 4   balcony               268850 non-null  bool   \n",
      " 5   picturecount          268850 non-null  int64  \n",
      " 6   pricetrend            267018 non-null  float64\n",
      " 7   telekomUploadSpeed    235492 non-null  float64\n",
      " 8   totalRent             228333 non-null  float64\n",
      " 9   yearConstructed       211805 non-null  float64\n",
      " 10  firingTypes           211886 non-null  object \n",
      " 11  hasKitchen            268850 non-null  bool   \n",
      " 12  cellar                268850 non-null  bool   \n",
      " 13  yearConstructedRange  211805 non-null  float64\n",
      " 14  livingSpace           268850 non-null  float64\n",
      " 15  geo_krs               268850 non-null  object \n",
      " 16  condition             200361 non-null  object \n",
      " 17  lift                  268850 non-null  bool   \n",
      " 18  typeOfFlat            232236 non-null  object \n",
      " 19  geo_plz               268850 non-null  int64  \n",
      " 20  noRooms               268850 non-null  float64\n",
      " 21  thermalChar           162344 non-null  float64\n",
      " 22  floor                 217541 non-null  float64\n",
      " 23  numberOfFloors        171118 non-null  float64\n",
      " 24  noRoomsRange          268850 non-null  int64  \n",
      " 25  garden                268850 non-null  bool   \n",
      " 26  livingSpaceRange      268850 non-null  int64  \n",
      " 27  regio2                268850 non-null  object \n",
      "dtypes: bool(6), float64(10), int64(4), object(8)\n",
      "memory usage: 46.7+ MB\n"
     ]
    }
   ],
   "source": [
    "df.info()"
   ]
  },
  {
   "cell_type": "code",
   "execution_count": 12,
   "id": "e9af5839-e8a9-4134-a3f7-624a96418152",
   "metadata": {},
   "outputs": [
    {
     "data": {
      "text/plain": [
       "<AxesSubplot:>"
      ]
     },
     "execution_count": 12,
     "metadata": {},
     "output_type": "execute_result"
    },
    {
     "data": {
      "image/png": "[encoded data removed]",
      "text/plain": [
       "<Figure size 1440x1440 with 2 Axes>"
      ]
     },
     "metadata": {
      "needs_background": "light"
     },
     "output_type": "display_data"
    }
   ],
   "source": [
    "f, ax = plt.subplots(figsize=(20, 20))\n",
    "corr = df.corr()\n",
    "sns.heatmap(corr, square = True,fmt='.2f' ,annot = True)"
   ]
  },
  {
   "cell_type": "markdown",
   "id": "3eebde98-f38b-494e-b744-8cbb25a10e81",
   "metadata": {},
   "source": [
    "## Preprocess Data"
   ]
  },
  {
   "cell_type": "code",
   "execution_count": 13,
   "id": "11f8fddc-5163-4c54-a976-2ff3a71090c3",
   "metadata": {},
   "outputs": [],
   "source": [
    "df = df[df['totalRent'].notna()]"
   ]
  },
  {
   "cell_type": "code",
   "execution_count": 14,
   "id": "d2d7d24f-d607-43e1-9d5f-39770e04b73d",
   "metadata": {},
   "outputs": [],
   "source": [
    "num_cols = []\n",
    "for cols in df.columns:\n",
    "    if df[cols].dtype in ['int64', 'float64'] and cols != 'totalRent':\n",
    "        num_cols.append(cols)"
   ]
  },
  {
   "cell_type": "code",
   "execution_count": 15,
   "id": "4db2f85f-8fbf-4293-a370-1ed92f355330",
   "metadata": {},
   "outputs": [],
   "source": [
    "df.fillna(df._get_numeric_data().mean(), inplace = True)"
   ]
  },
  {
   "cell_type": "code",
   "execution_count": 16,
   "id": "439c9e7d-2409-4aa3-a405-c28c9af93fb9",
   "metadata": {},
   "outputs": [],
   "source": [
    "df[num_cols] = normalize(df[num_cols])"
   ]
  },
  {
   "cell_type": "code",
   "execution_count": 17,
   "id": "c5f8598d-168b-4c91-a89d-1a980edcfab9",
   "metadata": {},
   "outputs": [
    {
     "name": "stdout",
     "output_type": "stream",
     "text": [
      "<class 'pandas.core.frame.DataFrame'>\n",
      "Int64Index: 228333 entries, 0 to 268848\n",
      "Data columns (total 28 columns):\n",
      " #   Column                Non-Null Count   Dtype  \n",
      "---  ------                --------------   -----  \n",
      " 0   regio1                228333 non-null  object \n",
      " 1   heatingType           191510 non-null  object \n",
      " 2   telekomTvOffer        200904 non-null  object \n",
      " 3   newlyConst            228333 non-null  bool   \n",
      " 4   balcony               228333 non-null  bool   \n",
      " 5   picturecount          228333 non-null  float64\n",
      " 6   pricetrend            228333 non-null  float64\n",
      " 7   telekomUploadSpeed    228333 non-null  float64\n",
      " 8   totalRent             228333 non-null  float64\n",
      " 9   yearConstructed       228333 non-null  float64\n",
      " 10  firingTypes           179919 non-null  object \n",
      " 11  hasKitchen            228333 non-null  bool   \n",
      " 12  cellar                228333 non-null  bool   \n",
      " 13  yearConstructedRange  228333 non-null  float64\n",
      " 14  livingSpace           228333 non-null  float64\n",
      " 15  geo_krs               228333 non-null  object \n",
      " 16  condition             171353 non-null  object \n",
      " 17  lift                  228333 non-null  bool   \n",
      " 18  typeOfFlat            197777 non-null  object \n",
      " 19  geo_plz               228333 non-null  float64\n",
      " 20  noRooms               228333 non-null  float64\n",
      " 21  thermalChar           228333 non-null  float64\n",
      " 22  floor                 228333 non-null  float64\n",
      " 23  numberOfFloors        228333 non-null  float64\n",
      " 24  noRoomsRange          228333 non-null  float64\n",
      " 25  garden                228333 non-null  bool   \n",
      " 26  livingSpaceRange      228333 non-null  float64\n",
      " 27  regio2                228333 non-null  object \n",
      "dtypes: bool(6), float64(14), object(8)\n",
      "memory usage: 41.4+ MB\n"
     ]
    }
   ],
   "source": [
    "df.info()"
   ]
  },
  {
   "cell_type": "code",
   "execution_count": 18,
   "id": "38cbb70f-6b39-4872-9c39-41ca8d85acd7",
   "metadata": {},
   "outputs": [],
   "source": [
    "df.fillna('NOT_APPLICABLE', inplace=True)"
   ]
  },
  {
   "cell_type": "code",
   "execution_count": 19,
   "id": "73cdf705-a4bd-49bb-b265-45ac04b2bc95",
   "metadata": {},
   "outputs": [
    {
     "data": {
      "text/html": [
       "<div>\n",
       "<style scoped>\n",
       "    .dataframe tbody tr th:only-of-type {\n",
       "        vertical-align: middle;\n",
       "    }\n",
       "\n",
       "    .dataframe tbody tr th {\n",
       "        vertical-align: top;\n",
       "    }\n",
       "\n",
       "    .dataframe thead th {\n",
       "        text-align: right;\n",
       "    }\n",
       "</style>\n",
       "<table border=\"1\" class=\"dataframe\">\n",
       "  <thead>\n",
       "    <tr style=\"text-align: right;\">\n",
       "      <th></th>\n",
       "      <th>regio1</th>\n",
       "      <th>heatingType</th>\n",
       "      <th>telekomTvOffer</th>\n",
       "      <th>newlyConst</th>\n",
       "      <th>balcony</th>\n",
       "      <th>picturecount</th>\n",
       "      <th>pricetrend</th>\n",
       "      <th>telekomUploadSpeed</th>\n",
       "      <th>totalRent</th>\n",
       "      <th>yearConstructed</th>\n",
       "      <th>...</th>\n",
       "      <th>typeOfFlat</th>\n",
       "      <th>geo_plz</th>\n",
       "      <th>noRooms</th>\n",
       "      <th>thermalChar</th>\n",
       "      <th>floor</th>\n",
       "      <th>numberOfFloors</th>\n",
       "      <th>noRoomsRange</th>\n",
       "      <th>garden</th>\n",
       "      <th>livingSpaceRange</th>\n",
       "      <th>regio2</th>\n",
       "    </tr>\n",
       "  </thead>\n",
       "  <tbody>\n",
       "    <tr>\n",
       "      <th>0</th>\n",
       "      <td>Nordrhein_Westfalen</td>\n",
       "      <td>central_heating</td>\n",
       "      <td>ONE_YEAR_FREE</td>\n",
       "      <td>False</td>\n",
       "      <td>False</td>\n",
       "      <td>0.000135</td>\n",
       "      <td>0.000104</td>\n",
       "      <td>0.000226</td>\n",
       "      <td>840.00</td>\n",
       "      <td>0.044344</td>\n",
       "      <td>...</td>\n",
       "      <td>ground_floor</td>\n",
       "      <td>0.999006</td>\n",
       "      <td>0.000090</td>\n",
       "      <td>0.004094</td>\n",
       "      <td>0.000023</td>\n",
       "      <td>0.000068</td>\n",
       "      <td>0.000090</td>\n",
       "      <td>True</td>\n",
       "      <td>0.000090</td>\n",
       "      <td>Dortmund</td>\n",
       "    </tr>\n",
       "    <tr>\n",
       "      <th>2</th>\n",
       "      <td>Sachsen</td>\n",
       "      <td>floor_heating</td>\n",
       "      <td>ONE_YEAR_FREE</td>\n",
       "      <td>True</td>\n",
       "      <td>True</td>\n",
       "      <td>0.003475</td>\n",
       "      <td>0.001181</td>\n",
       "      <td>0.001042</td>\n",
       "      <td>1300.00</td>\n",
       "      <td>0.876998</td>\n",
       "      <td>...</td>\n",
       "      <td>apartment</td>\n",
       "      <td>0.476507</td>\n",
       "      <td>0.001303</td>\n",
       "      <td>0.049491</td>\n",
       "      <td>0.001303</td>\n",
       "      <td>0.001737</td>\n",
       "      <td>0.001303</td>\n",
       "      <td>False</td>\n",
       "      <td>0.001737</td>\n",
       "      <td>Dresden</td>\n",
       "    </tr>\n",
       "    <tr>\n",
       "      <th>4</th>\n",
       "      <td>Bremen</td>\n",
       "      <td>self_contained_central_heating</td>\n",
       "      <td>NOT_APPLICABLE</td>\n",
       "      <td>False</td>\n",
       "      <td>True</td>\n",
       "      <td>0.000672</td>\n",
       "      <td>0.000087</td>\n",
       "      <td>0.001023</td>\n",
       "      <td>903.00</td>\n",
       "      <td>0.068951</td>\n",
       "      <td>...</td>\n",
       "      <td>apartment</td>\n",
       "      <td>0.997592</td>\n",
       "      <td>0.000106</td>\n",
       "      <td>0.006679</td>\n",
       "      <td>0.000035</td>\n",
       "      <td>0.000127</td>\n",
       "      <td>0.000106</td>\n",
       "      <td>False</td>\n",
       "      <td>0.000141</td>\n",
       "      <td>Bremen</td>\n",
       "    </tr>\n",
       "    <tr>\n",
       "      <th>6</th>\n",
       "      <td>Sachsen</td>\n",
       "      <td>self_contained_central_heating</td>\n",
       "      <td>ONE_YEAR_FREE</td>\n",
       "      <td>False</td>\n",
       "      <td>False</td>\n",
       "      <td>0.000918</td>\n",
       "      <td>0.000103</td>\n",
       "      <td>0.000245</td>\n",
       "      <td>380.00</td>\n",
       "      <td>0.200601</td>\n",
       "      <td>...</td>\n",
       "      <td>NOT_APPLICABLE</td>\n",
       "      <td>0.979583</td>\n",
       "      <td>0.000204</td>\n",
       "      <td>0.011627</td>\n",
       "      <td>0.000102</td>\n",
       "      <td>0.000408</td>\n",
       "      <td>0.000204</td>\n",
       "      <td>True</td>\n",
       "      <td>0.000306</td>\n",
       "      <td>Mittelsachsen_Kreis</td>\n",
       "    </tr>\n",
       "    <tr>\n",
       "      <th>7</th>\n",
       "      <td>Bremen</td>\n",
       "      <td>central_heating</td>\n",
       "      <td>ONE_YEAR_FREE</td>\n",
       "      <td>False</td>\n",
       "      <td>True</td>\n",
       "      <td>0.000174</td>\n",
       "      <td>0.000066</td>\n",
       "      <td>0.000083</td>\n",
       "      <td>584.25</td>\n",
       "      <td>0.068059</td>\n",
       "      <td>...</td>\n",
       "      <td>ground_floor</td>\n",
       "      <td>0.997677</td>\n",
       "      <td>0.000104</td>\n",
       "      <td>0.002189</td>\n",
       "      <td>0.000074</td>\n",
       "      <td>0.000124</td>\n",
       "      <td>0.000104</td>\n",
       "      <td>False</td>\n",
       "      <td>0.000069</td>\n",
       "      <td>Bremen</td>\n",
       "    </tr>\n",
       "  </tbody>\n",
       "</table>\n",
       "<p>5 rows × 28 columns</p>\n",
       "</div>"
      ],
      "text/plain": [
       "                regio1                     heatingType  telekomTvOffer  \\\n",
       "0  Nordrhein_Westfalen                 central_heating   ONE_YEAR_FREE   \n",
       "2              Sachsen                   floor_heating   ONE_YEAR_FREE   \n",
       "4               Bremen  self_contained_central_heating  NOT_APPLICABLE   \n",
       "6              Sachsen  self_contained_central_heating   ONE_YEAR_FREE   \n",
       "7               Bremen                 central_heating   ONE_YEAR_FREE   \n",
       "\n",
       "   newlyConst  balcony  picturecount  pricetrend  telekomUploadSpeed  \\\n",
       "0       False    False      0.000135    0.000104            0.000226   \n",
       "2        True     True      0.003475    0.001181            0.001042   \n",
       "4       False     True      0.000672    0.000087            0.001023   \n",
       "6       False    False      0.000918    0.000103            0.000245   \n",
       "7       False     True      0.000174    0.000066            0.000083   \n",
       "\n",
       "   totalRent  yearConstructed  ...      typeOfFlat   geo_plz   noRooms  \\\n",
       "0     840.00         0.044344  ...    ground_floor  0.999006  0.000090   \n",
       "2    1300.00         0.876998  ...       apartment  0.476507  0.001303   \n",
       "4     903.00         0.068951  ...       apartment  0.997592  0.000106   \n",
       "6     380.00         0.200601  ...  NOT_APPLICABLE  0.979583  0.000204   \n",
       "7     584.25         0.068059  ...    ground_floor  0.997677  0.000104   \n",
       "\n",
       "   thermalChar     floor numberOfFloors noRoomsRange  garden livingSpaceRange  \\\n",
       "0     0.004094  0.000023       0.000068     0.000090    True         0.000090   \n",
       "2     0.049491  0.001303       0.001737     0.001303   False         0.001737   \n",
       "4     0.006679  0.000035       0.000127     0.000106   False         0.000141   \n",
       "6     0.011627  0.000102       0.000408     0.000204    True         0.000306   \n",
       "7     0.002189  0.000074       0.000124     0.000104   False         0.000069   \n",
       "\n",
       "                regio2  \n",
       "0             Dortmund  \n",
       "2              Dresden  \n",
       "4               Bremen  \n",
       "6  Mittelsachsen_Kreis  \n",
       "7               Bremen  \n",
       "\n",
       "[5 rows x 28 columns]"
      ]
     },
     "execution_count": 19,
     "metadata": {},
     "output_type": "execute_result"
    }
   ],
   "source": [
    "df.head()"
   ]
  },
  {
   "cell_type": "markdown",
   "id": "80f06e5a-4697-44f5-98f9-518cb704f131",
   "metadata": {
    "tags": []
   },
   "source": [
    "## AA"
   ]
  },
  {
   "cell_type": "code",
   "execution_count": 20,
   "id": "5a44b216-f22c-4225-81dc-32b7687217e0",
   "metadata": {},
   "outputs": [],
   "source": [
    "df_no_categ = df._get_numeric_data()"
   ]
  },
  {
   "cell_type": "markdown",
   "id": "e201a475-e398-4845-bc60-970b1ad03a0e",
   "metadata": {},
   "source": [
    "## One Hot Encoding"
   ]
  },
  {
   "cell_type": "code",
   "execution_count": 39,
   "id": "dbf268a0-3cd7-4083-8811-8dbfcf0a6a8c",
   "metadata": {},
   "outputs": [],
   "source": [
    "df = pd.get_dummies(df)"
   ]
  },
  {
   "cell_type": "code",
   "execution_count": 40,
   "id": "36d8a6b3-2723-4043-a34e-32ee60dc7eb6",
   "metadata": {},
   "outputs": [
    {
     "data": {
      "text/html": [
       "<div>\n",
       "<style scoped>\n",
       "    .dataframe tbody tr th:only-of-type {\n",
       "        vertical-align: middle;\n",
       "    }\n",
       "\n",
       "    .dataframe tbody tr th {\n",
       "        vertical-align: top;\n",
       "    }\n",
       "\n",
       "    .dataframe thead th {\n",
       "        text-align: right;\n",
       "    }\n",
       "</style>\n",
       "<table border=\"1\" class=\"dataframe\">\n",
       "  <thead>\n",
       "    <tr style=\"text-align: right;\">\n",
       "      <th></th>\n",
       "      <th>newlyConst</th>\n",
       "      <th>balcony</th>\n",
       "      <th>picturecount</th>\n",
       "      <th>pricetrend</th>\n",
       "      <th>telekomUploadSpeed</th>\n",
       "      <th>totalRent</th>\n",
       "      <th>yearConstructed</th>\n",
       "      <th>hasKitchen</th>\n",
       "      <th>cellar</th>\n",
       "      <th>yearConstructedRange</th>\n",
       "      <th>...</th>\n",
       "      <th>regio2_Wolfsburg</th>\n",
       "      <th>regio2_Worms</th>\n",
       "      <th>regio2_Wunsiedel_im_Fichtelgebirge_Kreis</th>\n",
       "      <th>regio2_Wuppertal</th>\n",
       "      <th>regio2_Würzburg</th>\n",
       "      <th>regio2_Würzburg_Kreis</th>\n",
       "      <th>regio2_Zollernalbkreis</th>\n",
       "      <th>regio2_Zweibrücken</th>\n",
       "      <th>regio2_Zwickau</th>\n",
       "      <th>regio2_Zwickau_Kreis</th>\n",
       "    </tr>\n",
       "  </thead>\n",
       "  <tbody>\n",
       "    <tr>\n",
       "      <th>0</th>\n",
       "      <td>False</td>\n",
       "      <td>False</td>\n",
       "      <td>0.000135</td>\n",
       "      <td>0.000104</td>\n",
       "      <td>0.000226</td>\n",
       "      <td>840.00</td>\n",
       "      <td>0.044344</td>\n",
       "      <td>False</td>\n",
       "      <td>True</td>\n",
       "      <td>0.000045</td>\n",
       "      <td>...</td>\n",
       "      <td>0</td>\n",
       "      <td>0</td>\n",
       "      <td>0</td>\n",
       "      <td>0</td>\n",
       "      <td>0</td>\n",
       "      <td>0</td>\n",
       "      <td>0</td>\n",
       "      <td>0</td>\n",
       "      <td>0</td>\n",
       "      <td>0</td>\n",
       "    </tr>\n",
       "    <tr>\n",
       "      <th>2</th>\n",
       "      <td>True</td>\n",
       "      <td>True</td>\n",
       "      <td>0.003475</td>\n",
       "      <td>0.001181</td>\n",
       "      <td>0.001042</td>\n",
       "      <td>1300.00</td>\n",
       "      <td>0.876998</td>\n",
       "      <td>False</td>\n",
       "      <td>True</td>\n",
       "      <td>0.003909</td>\n",
       "      <td>...</td>\n",
       "      <td>0</td>\n",
       "      <td>0</td>\n",
       "      <td>0</td>\n",
       "      <td>0</td>\n",
       "      <td>0</td>\n",
       "      <td>0</td>\n",
       "      <td>0</td>\n",
       "      <td>0</td>\n",
       "      <td>0</td>\n",
       "      <td>0</td>\n",
       "    </tr>\n",
       "    <tr>\n",
       "      <th>4</th>\n",
       "      <td>False</td>\n",
       "      <td>True</td>\n",
       "      <td>0.000672</td>\n",
       "      <td>0.000087</td>\n",
       "      <td>0.001023</td>\n",
       "      <td>903.00</td>\n",
       "      <td>0.068951</td>\n",
       "      <td>False</td>\n",
       "      <td>False</td>\n",
       "      <td>0.000035</td>\n",
       "      <td>...</td>\n",
       "      <td>0</td>\n",
       "      <td>0</td>\n",
       "      <td>0</td>\n",
       "      <td>0</td>\n",
       "      <td>0</td>\n",
       "      <td>0</td>\n",
       "      <td>0</td>\n",
       "      <td>0</td>\n",
       "      <td>0</td>\n",
       "      <td>0</td>\n",
       "    </tr>\n",
       "    <tr>\n",
       "      <th>6</th>\n",
       "      <td>False</td>\n",
       "      <td>False</td>\n",
       "      <td>0.000918</td>\n",
       "      <td>0.000103</td>\n",
       "      <td>0.000245</td>\n",
       "      <td>380.00</td>\n",
       "      <td>0.200601</td>\n",
       "      <td>False</td>\n",
       "      <td>True</td>\n",
       "      <td>0.000376</td>\n",
       "      <td>...</td>\n",
       "      <td>0</td>\n",
       "      <td>0</td>\n",
       "      <td>0</td>\n",
       "      <td>0</td>\n",
       "      <td>0</td>\n",
       "      <td>0</td>\n",
       "      <td>0</td>\n",
       "      <td>0</td>\n",
       "      <td>0</td>\n",
       "      <td>0</td>\n",
       "    </tr>\n",
       "    <tr>\n",
       "      <th>7</th>\n",
       "      <td>False</td>\n",
       "      <td>True</td>\n",
       "      <td>0.000174</td>\n",
       "      <td>0.000066</td>\n",
       "      <td>0.000083</td>\n",
       "      <td>584.25</td>\n",
       "      <td>0.068059</td>\n",
       "      <td>False</td>\n",
       "      <td>True</td>\n",
       "      <td>0.000069</td>\n",
       "      <td>...</td>\n",
       "      <td>0</td>\n",
       "      <td>0</td>\n",
       "      <td>0</td>\n",
       "      <td>0</td>\n",
       "      <td>0</td>\n",
       "      <td>0</td>\n",
       "      <td>0</td>\n",
       "      <td>0</td>\n",
       "      <td>0</td>\n",
       "      <td>0</td>\n",
       "    </tr>\n",
       "  </tbody>\n",
       "</table>\n",
       "<p>5 rows × 1034 columns</p>\n",
       "</div>"
      ],
      "text/plain": [
       "   newlyConst  balcony  picturecount  pricetrend  telekomUploadSpeed  \\\n",
       "0       False    False      0.000135    0.000104            0.000226   \n",
       "2        True     True      0.003475    0.001181            0.001042   \n",
       "4       False     True      0.000672    0.000087            0.001023   \n",
       "6       False    False      0.000918    0.000103            0.000245   \n",
       "7       False     True      0.000174    0.000066            0.000083   \n",
       "\n",
       "   totalRent  yearConstructed  hasKitchen  cellar  yearConstructedRange  ...  \\\n",
       "0     840.00         0.044344       False    True              0.000045  ...   \n",
       "2    1300.00         0.876998       False    True              0.003909  ...   \n",
       "4     903.00         0.068951       False   False              0.000035  ...   \n",
       "6     380.00         0.200601       False    True              0.000376  ...   \n",
       "7     584.25         0.068059       False    True              0.000069  ...   \n",
       "\n",
       "   regio2_Wolfsburg  regio2_Worms  regio2_Wunsiedel_im_Fichtelgebirge_Kreis  \\\n",
       "0                 0             0                                         0   \n",
       "2                 0             0                                         0   \n",
       "4                 0             0                                         0   \n",
       "6                 0             0                                         0   \n",
       "7                 0             0                                         0   \n",
       "\n",
       "   regio2_Wuppertal  regio2_Würzburg  regio2_Würzburg_Kreis  \\\n",
       "0                 0                0                      0   \n",
       "2                 0                0                      0   \n",
       "4                 0                0                      0   \n",
       "6                 0                0                      0   \n",
       "7                 0                0                      0   \n",
       "\n",
       "   regio2_Zollernalbkreis  regio2_Zweibrücken  regio2_Zwickau  \\\n",
       "0                       0                   0               0   \n",
       "2                       0                   0               0   \n",
       "4                       0                   0               0   \n",
       "6                       0                   0               0   \n",
       "7                       0                   0               0   \n",
       "\n",
       "   regio2_Zwickau_Kreis  \n",
       "0                     0  \n",
       "2                     0  \n",
       "4                     0  \n",
       "6                     0  \n",
       "7                     0  \n",
       "\n",
       "[5 rows x 1034 columns]"
      ]
     },
     "execution_count": 40,
     "metadata": {},
     "output_type": "execute_result"
    }
   ],
   "source": [
    "df.head()"
   ]
  },
  {
   "cell_type": "markdown",
   "id": "36f83666-b252-4cc3-bbfd-483ebdb8341b",
   "metadata": {
    "tags": []
   },
   "source": [
    "## Split"
   ]
  },
  {
   "cell_type": "code",
   "execution_count": 21,
   "id": "5422decb-61df-4314-9d3b-7d0f8b08fd2c",
   "metadata": {},
   "outputs": [],
   "source": [
    "y_name = 'totalRent'"
   ]
  },
  {
   "cell_type": "code",
   "execution_count": 41,
   "id": "d0f2d9af-b2cc-431e-b7d6-53a65b8d0292",
   "metadata": {},
   "outputs": [],
   "source": [
    "X_ = df_no_categ.loc[:, df_no_categ.columns != y_name]\n",
    "y_ = df_no_categ[y_name]\n",
    "X_train_, X_test_, y_train_, y_test_ = train_test_split(X_, y_, test_size=0.33, random_state=42)"
   ]
  },
  {
   "cell_type": "code",
   "execution_count": 42,
   "id": "b2c0f0e3-05b2-4719-975f-9d5b827e9f78",
   "metadata": {},
   "outputs": [],
   "source": [
    "X = df.loc[:, df.columns != y_name]\n",
    "y = df[y_name]\n",
    "X_train, X_test, y_train, y_test = train_test_split(X, y, test_size=0.33, random_state=42)"
   ]
  },
  {
   "cell_type": "markdown",
   "id": "1617ae79-5e72-4519-9670-75962e90cf76",
   "metadata": {},
   "source": [
    "## Linear Regression"
   ]
  },
  {
   "cell_type": "code",
   "execution_count": 26,
   "id": "c445ba83-0edd-464b-b45a-22fe4b2f8a6a",
   "metadata": {},
   "outputs": [],
   "source": [
    "from sklearn.linear_model import LinearRegression\n",
    "from sklearn.metrics import mean_squared_error\n",
    "import math"
   ]
  },
  {
   "cell_type": "code",
   "execution_count": 28,
   "id": "f181bd3a-e06e-4356-ab86-b630c50cb321",
   "metadata": {},
   "outputs": [
    {
     "data": {
      "text/plain": [
       "57409.742511484365"
      ]
     },
     "execution_count": 28,
     "metadata": {},
     "output_type": "execute_result"
    }
   ],
   "source": [
    "reg = LinearRegression().fit(X_train_, y_train_)\n",
    "pred = reg.predict(X_test_)\n",
    "math.sqrt(mean_squared_error(y_test_, pred))"
   ]
  },
  {
   "cell_type": "code",
   "execution_count": 43,
   "id": "c53c34ac-5026-41c5-9fd5-fe8c62c89a37",
   "metadata": {},
   "outputs": [
    {
     "data": {
      "text/plain": [
       "12432586216363.105"
      ]
     },
     "execution_count": 43,
     "metadata": {},
     "output_type": "execute_result"
    }
   ],
   "source": [
    "reg = LinearRegression().fit(X_train, y_train)\n",
    "pred = reg.predict(X_test)\n",
    "math.sqrt(mean_squared_error(y_test, pred))"
   ]
  },
  {
   "cell_type": "markdown",
   "id": "80638ef4-0ed9-4c99-8f49-98f6992e0ac0",
   "metadata": {},
   "source": [
    "## Regression Tree"
   ]
  },
  {
   "cell_type": "code",
   "execution_count": 29,
   "id": "c4f3c7cf-a0fa-4de7-ab3c-41d46c718f96",
   "metadata": {},
   "outputs": [],
   "source": [
    "from sklearn.tree import DecisionTreeRegressor"
   ]
  },
  {
   "cell_type": "code",
   "execution_count": 30,
   "id": "6c6c5432-f5ff-444a-9d5c-19fe3946abd8",
   "metadata": {},
   "outputs": [
    {
     "data": {
      "text/plain": [
       "57827.643154264544"
      ]
     },
     "execution_count": 30,
     "metadata": {},
     "output_type": "execute_result"
    }
   ],
   "source": [
    "regr = DecisionTreeRegressor(max_depth=5).fit(X_train_, y_train_)\n",
    "pred = regr.predict(X_test_)\n",
    "math.sqrt(mean_squared_error(y_test_, pred))"
   ]
  },
  {
   "cell_type": "code",
   "execution_count": 44,
   "id": "6ba772a4-6f56-49ed-bc61-82722e6cde27",
   "metadata": {},
   "outputs": [
    {
     "data": {
      "text/plain": [
       "57835.382454914936"
      ]
     },
     "execution_count": 44,
     "metadata": {},
     "output_type": "execute_result"
    }
   ],
   "source": [
    "regr = DecisionTreeRegressor(max_depth=5).fit(X_train, y_train)\n",
    "pred = regr.predict(X_test)\n",
    "math.sqrt(mean_squared_error(y_test, pred))"
   ]
  },
  {
   "cell_type": "markdown",
   "id": "560f646e-07a9-47d6-b81d-ce55124b0480",
   "metadata": {},
   "source": [
    "## Random Forest Regressor"
   ]
  },
  {
   "cell_type": "code",
   "execution_count": 33,
   "id": "2d58b621-77bb-4218-a0d6-bf8c914d6ba0",
   "metadata": {},
   "outputs": [],
   "source": [
    "from sklearn.ensemble import RandomForestRegressor"
   ]
  },
  {
   "cell_type": "code",
   "execution_count": 46,
   "id": "0a02dec5-d162-49c7-b1df-fd36e183cfa0",
   "metadata": {},
   "outputs": [
    {
     "data": {
      "text/plain": [
       "57510.50649900566"
      ]
     },
     "execution_count": 46,
     "metadata": {},
     "output_type": "execute_result"
    }
   ],
   "source": [
    "regr = RandomForestRegressor(max_depth=10, random_state=0).fit(X_train_, y_train_)\n",
    "pred = regr.predict(X_test_)\n",
    "math.sqrt(mean_squared_error(y_test_, pred))"
   ]
  },
  {
   "cell_type": "code",
   "execution_count": 45,
   "id": "aa479d9a-de52-471d-8293-f1d2ca3d44db",
   "metadata": {},
   "outputs": [
    {
     "data": {
      "text/plain": [
       "57433.70856926935"
      ]
     },
     "execution_count": 45,
     "metadata": {},
     "output_type": "execute_result"
    }
   ],
   "source": [
    "regr = RandomForestRegressor(max_depth=10, random_state=0).fit(X_train, y_train)\n",
    "pred = regr.predict(X_test)\n",
    "math.sqrt(mean_squared_error(y_test, pred))"
   ]
  },
  {
   "cell_type": "code",
   "execution_count": null,
   "id": "a4393f8c-5665-42a8-8f21-8b60d114809a",
   "metadata": {},
   "outputs": [],
   "source": []
  }
 ],
 "metadata": {
  "kernelspec": {
   "display_name": "Python 3 (ipykernel)",
   "language": "python",
   "name": "python3"
  },
  "language_info": {
   "codemirror_mode": {
    "name": "ipython",
    "version": 3
   },
   "file_extension": ".py",
   "mimetype": "text/x-python",
   "name": "python",
   "nbconvert_exporter": "python",
   "pygments_lexer": "ipython3",
   "version": "3.9.7"
  }
 },
 "nbformat": 4,
 "nbformat_minor": 5
}
